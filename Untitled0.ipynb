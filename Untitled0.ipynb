{
  "nbformat": 4,
  "nbformat_minor": 0,
  "metadata": {
    "colab": {
      "name": "Untitled0.ipynb",
      "provenance": [],
      "authorship_tag": "ABX9TyOiVe8iXNikLHpjkC6bd4Wk",
      "include_colab_link": true
    },
    "kernelspec": {
      "name": "python3",
      "display_name": "Python 3"
    },
    "language_info": {
      "name": "python"
    }
  },
  "cells": [
    {
      "cell_type": "markdown",
      "metadata": {
        "id": "view-in-github",
        "colab_type": "text"
      },
      "source": [
        "<a href=\"https://colab.research.google.com/github/chldPdnjs/pythonbasicclass/blob/main/Untitled0.ipynb\" target=\"_parent\"><img src=\"https://colab.research.google.com/assets/colab-badge.svg\" alt=\"Open In Colab\"/></a>"
      ]
    },
    {
      "cell_type": "code",
      "execution_count": 1,
      "metadata": {
        "id": "c96I-f7hSpaG"
      },
      "outputs": [],
      "source": [
        "# list tuple dict set\n",
        "\n",
        "# list [] indexing/slicing  mutable(del,ins)  [1]\n",
        "# tuple ()  indexing/slicing  imutable     (1,)\n",
        "# dict {}         X  (unordered)  mutable  {'key' : 'value'}\n",
        "# set {}          X  (unordered)  mutable  {1.2.3}\n",
        "\n"
      ]
    },
    {
      "cell_type": "code",
      "source": [
        "# 1\n",
        "no = '31025'\n",
        "a = no[0]\n",
        "b = no[1:3]\n",
        "c = no[3:5]\n",
        "\n",
        "print(a,'학년',b,'반',c,'번')\n",
        "print(f'{a} 학년 {b} 반 {c} 번')\n"
      ],
      "metadata": {
        "colab": {
          "base_uri": "https://localhost:8080/"
        },
        "id": "VRsVjGubVlnK",
        "outputId": "0f554a8b-5dfe-4b91-aae5-c8dee7158fd1"
      },
      "execution_count": 5,
      "outputs": [
        {
          "output_type": "stream",
          "name": "stdout",
          "text": [
            "3 학년 10 반 25 번\n",
            "3 학년 10 반 25 번\n"
          ]
        }
      ]
    },
    {
      "cell_type": "code",
      "source": [
        "# 2\n",
        "\n",
        "no = '서울2가1234'\n",
        "no4 = no[-4:]\n",
        "\n",
        "print(f'{no} 의 차량번호 4자리는 {no4} 입니다.')\n",
        "print(no,'의 차량번호 4자리는', no4 , '입니다.')\n"
      ],
      "metadata": {
        "colab": {
          "base_uri": "https://localhost:8080/"
        },
        "id": "nceR8QEVY030",
        "outputId": "70f3faf6-6cdc-43e6-f31d-aba3c00884d6"
      },
      "execution_count": 11,
      "outputs": [
        {
          "output_type": "stream",
          "name": "stdout",
          "text": [
            "서울2가1234 의 차량번호 4자리는 1234 입니다.\n",
            "서울2가1234 의 차량번호 4자리는 1234 입니다.\n"
          ]
        }
      ]
    },
    {
      "cell_type": "code",
      "source": [
        "# 3\n",
        "\n",
        "str = 'maple'\n",
        "a = str[len(str)//2]  # // 나머지를 버리고 몫만 취한다.\n",
        "                      # % 몫은 버리고 나머지만 취한다.\n",
        "\n",
        "print(f'{str} 의 가운데 글자는 {a} 입니다.')"
      ],
      "metadata": {
        "colab": {
          "base_uri": "https://localhost:8080/"
        },
        "id": "UmoAAytnavFf",
        "outputId": "eb1ae0f6-caee-4b05-b258-cda16e2fc797"
      },
      "execution_count": 13,
      "outputs": [
        {
          "output_type": "stream",
          "name": "stdout",
          "text": [
            "maple 의 가운데 글자는 p 입니다.\n"
          ]
        }
      ]
    },
    {
      "cell_type": "code",
      "source": [
        "# 4\n",
        "\n",
        "li = [10,20,30,40,50,60,70,80,90,100]\n",
        "a = li[2:7]\n",
        "\n",
        "print('3번째 요소부터 7번째 요소 = ', a)\n",
        "print('3번째 요소부터 7번째 요소 중 2번째 요소 = ', a[1])"
      ],
      "metadata": {
        "colab": {
          "base_uri": "https://localhost:8080/"
        },
        "id": "mqcIRBmufV7R",
        "outputId": "07f0c392-6889-456f-c070-3f7825776bb8"
      },
      "execution_count": 18,
      "outputs": [
        {
          "output_type": "stream",
          "name": "stdout",
          "text": [
            "3번째 요소부터 7번째 요소 =  [30, 40, 50, 60, 70]\n",
            "3번째 요소부터 7번째 요소 중 2번째 요소 =  40\n"
          ]
        }
      ]
    },
    {
      "cell_type": "code",
      "source": [
        "# 5\n",
        "\n",
        "dict = {'금요일':'탕수육',\n",
        "        '토요일':'유산슬',\n",
        "        '일요일':'팔보채'}\n",
        "\n",
        "print('금요일 :',dict['금요일'])\n",
        "print('토요일 :',dict['토요일'])\n",
        "print('일요일 :',dict['일요일'])"
      ],
      "metadata": {
        "colab": {
          "base_uri": "https://localhost:8080/"
        },
        "id": "IWXEM9AUgzhP",
        "outputId": "9a8cd209-d7f6-4988-901c-beafe6085f35"
      },
      "execution_count": 22,
      "outputs": [
        {
          "output_type": "stream",
          "name": "stdout",
          "text": [
            "금요일 : 탕수육\n",
            "토요일 : 유산슬\n",
            "일요일 : 팔보채\n"
          ]
        }
      ]
    },
    {
      "cell_type": "code",
      "source": [
        "# \\ 따옴표의 기능을 무력화시키고 글자로 표현\n",
        "# \\n 줄바꿈  line feed\n",
        "# \\t 탭      tab\n",
        "\n",
        "print('Hello \\'World\\'')\n",
        "print(\"Hello 'World'\")\n",
        "print(\"Hello \\\"World\\\"\")\n",
        "print('Hello \"World\"')\n",
        "\n",
        "print('*\\n**\\n***')\n",
        "\n",
        "print( 'Hello\\nWorld')\n",
        "\n",
        "print('이름\\t연락처')\n",
        "print('제시카\\t01-123-4567')\n",
        "print('마틴\\t010-6789-7890')"
      ],
      "metadata": {
        "colab": {
          "base_uri": "https://localhost:8080/"
        },
        "id": "awos1dBriXJK",
        "outputId": "1c2df3a1-aeb2-4475-8b9b-83632c8f59f2"
      },
      "execution_count": 31,
      "outputs": [
        {
          "output_type": "stream",
          "name": "stdout",
          "text": [
            "Hello 'World'\n",
            "Hello 'World'\n",
            "Hello \"World\"\n",
            "Hello \"World\"\n",
            "*\n",
            "**\n",
            "***\n",
            "Hello\n",
            "World\n",
            "이름\t연락처\n",
            "제시카\t01-123-4567\n",
            "마틴\t010-6789-7890\n"
          ]
        }
      ]
    },
    {
      "cell_type": "code",
      "source": [
        "# print() 함수\n",
        "\n",
        "print('재미있는','파이썬')\n",
        "print('재미있는','파이썬', sep=',') # 구분자\n",
        "print('재미있는','파이썬', sep='/')\n",
        "print('재미있는','파이썬', sep='^')\n",
        "print('최예원','박철진', sep='♥')"
      ],
      "metadata": {
        "colab": {
          "base_uri": "https://localhost:8080/"
        },
        "id": "JF8s9y9RlQ0p",
        "outputId": "1e732649-9916-4ef5-8c89-89b14a61ee05"
      },
      "execution_count": 35,
      "outputs": [
        {
          "output_type": "stream",
          "name": "stdout",
          "text": [
            "재미있는 파이썬\n",
            "재미있는,파이썬\n",
            "재미있는/파이썬\n",
            "재미있는^파이썬\n",
            "최예원♥박철진\n"
          ]
        }
      ]
    },
    {
      "cell_type": "code",
      "source": [
        "print('영화 타이타닉')\n",
        "print('평점', end=':')\n",
        "print('5점')"
      ],
      "metadata": {
        "colab": {
          "base_uri": "https://localhost:8080/"
        },
        "id": "0bvakocvmRRW",
        "outputId": "e7524f26-58fb-4821-9d9c-66992d5c5ef7"
      },
      "execution_count": 36,
      "outputs": [
        {
          "output_type": "stream",
          "name": "stdout",
          "text": [
            "영화 타이타닉\n",
            "평점:5점\n"
          ]
        }
      ]
    },
    {
      "cell_type": "code",
      "source": [
        "# % 연산자\n",
        "\n",
        "print('%d' % 10)  # %d 정수 10진수 자리표시자\n",
        "print('%o' % 10)  # %o 정수 8진수 자리표시자\n",
        "print('%x' % 10)  # %x 정수 16진수 자리표시자\n",
        "\n",
        "print('%f' % 3.14)\n"
      ],
      "metadata": {
        "colab": {
          "base_uri": "https://localhost:8080/"
        },
        "id": "kdnJds04ojOK",
        "outputId": "cb29c60c-2f5e-4bba-b928-0bd961701548"
      },
      "execution_count": 41,
      "outputs": [
        {
          "output_type": "stream",
          "name": "stdout",
          "text": [
            "10\n",
            "12\n",
            "a\n",
            "3.140000\n"
          ]
        }
      ]
    },
    {
      "cell_type": "code",
      "source": [
        "print('%d' %1)\n",
        "print('%5.2f' % 3.14) # 다섯칸을 확보하고 오른쪽부터 실수 출력\n",
        "print('%5d' %11) # 다섯칸을 확보하고 오른쪽부터 출력"
      ],
      "metadata": {
        "colab": {
          "base_uri": "https://localhost:8080/"
        },
        "id": "WSRu_9p_tdiu",
        "outputId": "b3a9363f-295c-4673-d822-6412c50df795"
      },
      "execution_count": 46,
      "outputs": [
        {
          "output_type": "stream",
          "name": "stdout",
          "text": [
            "1\n",
            " 3.14\n",
            "   11\n"
          ]
        }
      ]
    },
    {
      "cell_type": "code",
      "source": [
        "print('%-5d' %1) # 다섯칸을 확보하고 왼쪽에 출력\n",
        "print('%-5d' %11) # 다섯칸을 확보하고 왼쪽부터 출력"
      ],
      "metadata": {
        "colab": {
          "base_uri": "https://localhost:8080/"
        },
        "id": "khXIkgM5t4N6",
        "outputId": "a2152991-5932-4aa3-ee7d-c88c614f4525"
      },
      "execution_count": 44,
      "outputs": [
        {
          "output_type": "stream",
          "name": "stdout",
          "text": [
            "1    \n",
            "11   \n"
          ]
        }
      ]
    },
    {
      "cell_type": "code",
      "source": [
        "print('%.2f' % 3.14) # 소수 2자리까지 실수출력\n",
        "print('%.1f' % 3.14) # 소수 1자리까지 실수출력"
      ],
      "metadata": {
        "colab": {
          "base_uri": "https://localhost:8080/"
        },
        "id": "QtD7MeLouu9p",
        "outputId": "f17e4298-8f8b-4e2f-f0a5-377f6720979f"
      },
      "execution_count": 47,
      "outputs": [
        {
          "output_type": "stream",
          "name": "stdout",
          "text": [
            "3.14\n",
            "3.1\n"
          ]
        }
      ]
    },
    {
      "cell_type": "code",
      "source": [
        "a='학생'\n",
        "\n",
        "# 기본 출력 방법\n",
        "print(a,'입니다')\n",
        "\n",
        "# f string 출력 방법\n",
        "print(f'{a} 입니다.')\n",
        "\n",
        "# % 연산자 출력 방법\n",
        "print('%s 입니다.' % a)\n",
        "\n",
        "# format() 출력 방법\n",
        "print('{} 입니다.'.format(a))"
      ],
      "metadata": {
        "colab": {
          "base_uri": "https://localhost:8080/"
        },
        "id": "FkwU1Tu-vPgN",
        "outputId": "a0151da9-0383-4b68-bae4-d1a8d0db214f"
      },
      "execution_count": 51,
      "outputs": [
        {
          "output_type": "stream",
          "name": "stdout",
          "text": [
            "학생 입니다\n",
            "학생 입니다.\n",
            "학생 입니다.\n",
            "학생 입니다.\n"
          ]
        }
      ]
    },
    {
      "cell_type": "code",
      "source": [
        "#  format() 메서드\n",
        "\n",
        "print('My name is {}'.format('James'))"
      ],
      "metadata": {
        "colab": {
          "base_uri": "https://localhost:8080/"
        },
        "id": "gH48JgLdwZ8Y",
        "outputId": "0d4745a7-a352-4a60-80ad-d4449ee5b340"
      },
      "execution_count": 52,
      "outputs": [
        {
          "output_type": "stream",
          "name": "stdout",
          "text": [
            "My name is James\n"
          ]
        }
      ]
    },
    {
      "cell_type": "code",
      "source": [
        "print('My name is {0}'.format('James'))"
      ],
      "metadata": {
        "colab": {
          "base_uri": "https://localhost:8080/"
        },
        "id": "O2ltq6cvwzsx",
        "outputId": "0a1cb677-80e0-4788-ee59-753eb6c145d7"
      },
      "execution_count": 53,
      "outputs": [
        {
          "output_type": "stream",
          "name": "stdout",
          "text": [
            "My name is James\n"
          ]
        }
      ]
    },
    {
      "cell_type": "code",
      "source": [
        "print('My name is {name}'.format(name='James'))"
      ],
      "metadata": {
        "colab": {
          "base_uri": "https://localhost:8080/"
        },
        "id": "ha7fjDINw2CG",
        "outputId": "c9ae165d-5881-4ef3-a7ce-eabbc4427eb2"
      },
      "execution_count": 54,
      "outputs": [
        {
          "output_type": "stream",
          "name": "stdout",
          "text": [
            "My name is James\n"
          ]
        }
      ]
    },
    {
      "cell_type": "code",
      "source": [
        "print('My name is {}. |\\'m {} years old.'.format('James',20))"
      ],
      "metadata": {
        "colab": {
          "base_uri": "https://localhost:8080/"
        },
        "id": "MeHQbd4NxFNO",
        "outputId": "283c8522-df7d-43ac-f97b-63115ec051c8"
      },
      "execution_count": 55,
      "outputs": [
        {
          "output_type": "stream",
          "name": "stdout",
          "text": [
            "My name is James. |'m 20 years old.\n"
          ]
        }
      ]
    },
    {
      "cell_type": "code",
      "source": [
        "print('My name is {1}. |\\'m {0} years old.'.format('James',20))"
      ],
      "metadata": {
        "colab": {
          "base_uri": "https://localhost:8080/"
        },
        "id": "-flibDiFxYWT",
        "outputId": "8a6347c8-1e23-4a57-a912-aea15f48443d"
      },
      "execution_count": 56,
      "outputs": [
        {
          "output_type": "stream",
          "name": "stdout",
          "text": [
            "My name is 20. |'m James years old.\n"
          ]
        }
      ]
    },
    {
      "cell_type": "code",
      "source": [
        "print('My name is {name}. |\\'m {age} years old.'.format(name='James',age=20))"
      ],
      "metadata": {
        "colab": {
          "base_uri": "https://localhost:8080/"
        },
        "id": "jPY0HRghxkxM",
        "outputId": "138981ae-f091-4828-e57e-04922bb4d75a"
      },
      "execution_count": 57,
      "outputs": [
        {
          "output_type": "stream",
          "name": "stdout",
          "text": [
            "My name is James. |'m 20 years old.\n"
          ]
        }
      ]
    },
    {
      "cell_type": "code",
      "source": [
        "# f-string\n",
        "\n",
        "who = 'you'\n",
        "how = 'happy'\n",
        "\n",
        "print(f'{who} make me {how}')"
      ],
      "metadata": {
        "colab": {
          "base_uri": "https://localhost:8080/"
        },
        "id": "13n73AQxx1rW",
        "outputId": "e19d5041-2dde-4f7a-9c23-03937fc371d9"
      },
      "execution_count": 59,
      "outputs": [
        {
          "output_type": "stream",
          "name": "stdout",
          "text": [
            "you make me happy\n"
          ]
        }
      ]
    },
    {
      "cell_type": "code",
      "source": [
        "age =  25\n",
        "print(f'내년엔 {age+1}살이 됩니다.')"
      ],
      "metadata": {
        "colab": {
          "base_uri": "https://localhost:8080/"
        },
        "id": "YGDIsWZ2yl-5",
        "outputId": "a9fa30ff-4dc8-499a-ee1f-79e85a8879ce"
      },
      "execution_count": 60,
      "outputs": [
        {
          "output_type": "stream",
          "name": "stdout",
          "text": [
            "내년엔 26살이 됩니다.\n"
          ]
        }
      ]
    },
    {
      "cell_type": "code",
      "source": [
        "#  표준입력\n",
        "\n",
        "a = input()\n",
        "print(a)"
      ],
      "metadata": {
        "colab": {
          "base_uri": "https://localhost:8080/"
        },
        "id": "UyaTk29tzEJk",
        "outputId": "756b06cb-ec1c-4e47-b63b-d99f6f2f75b4"
      },
      "execution_count": 62,
      "outputs": [
        {
          "output_type": "stream",
          "name": "stdout",
          "text": [
            "asd\n",
            "asd\n"
          ]
        }
      ]
    },
    {
      "cell_type": "code",
      "source": [
        "n = input('정수를 입력하세요 : ')\n",
        "print(n)"
      ],
      "metadata": {
        "colab": {
          "base_uri": "https://localhost:8080/"
        },
        "id": "ILQ0IXbszbgT",
        "outputId": "10586b3d-8e5e-4e9f-fc49-57648d0aef54"
      },
      "execution_count": 63,
      "outputs": [
        {
          "output_type": "stream",
          "name": "stdout",
          "text": [
            "정수를 입력하세요 : 26\n",
            "26\n"
          ]
        }
      ]
    },
    {
      "cell_type": "code",
      "source": [
        "# a='학생'\n",
        "\n",
        "# # 기본 출력 방법\n",
        "# print(a,'입니다')\n",
        "\n",
        "# # f string 출력 방법\n",
        "# print(f'{a} 입니다.')\n",
        "\n",
        "# # % 연산자 출력 방법\n",
        "# print('%s 입니다.' % a)\n",
        "\n",
        "# # format() 출력 방법\n",
        "# print('{} 입니다.'.format(a))\n",
        "\n",
        "name = input('이름을 입력하세요>>>')\n",
        "age = input('나이를 입력하세요>>>')\n",
        "\n",
        "print('입력된 이름은 {}입니다.'.format(name))\n",
        "print('입력된 나이는 {}살입니다.'.format(age))\n",
        "\n",
        "print('입력된 이름은',name,'입니다')\n",
        "print('입력된 나이는',age,'입니다.')\n",
        "\n",
        "print('입력된 이름은 %s입니다.' % name)\n",
        "print('입력된 나이는 %s살입니다.' % age)\n",
        "\n",
        "print(f'입력된 이름은 {name}입니다.')\n",
        "print(f'입력된 나이는 {age}살입니다.')"
      ],
      "metadata": {
        "colab": {
          "base_uri": "https://localhost:8080/"
        },
        "id": "3P9s2Awmz89o",
        "outputId": "52df745d-9b02-4066-d2a1-f982eebb7726"
      },
      "execution_count": 68,
      "outputs": [
        {
          "output_type": "stream",
          "name": "stdout",
          "text": [
            "이름을 입력하세요>>>최예원\n",
            "나이를 입력하세요>>>26\n",
            "입력된 이름은 최예원입니다.\n",
            "입력된 나이는 26살입니다.\n",
            "입력된 이름은 최예원 입니다\n",
            "입력된 나이는 26 입니다.\n",
            "입력된 이름은 최예원입니다.\n",
            "입력된 나이는 26살입니다.\n",
            "입력된 이름은 최예원입니다.\n",
            "입력된 나이는 26살입니다.\n"
          ]
        }
      ]
    }
  ]
}