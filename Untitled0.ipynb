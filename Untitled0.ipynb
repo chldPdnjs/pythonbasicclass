{
  "nbformat": 4,
  "nbformat_minor": 0,
  "metadata": {
    "colab": {
      "name": "Untitled0.ipynb",
      "provenance": [],
      "authorship_tag": "ABX9TyMRh8cmqymK0NjkW8XknrBH",
      "include_colab_link": true
    },
    "kernelspec": {
      "name": "python3",
      "display_name": "Python 3"
    },
    "language_info": {
      "name": "python"
    }
  },
  "cells": [
    {
      "cell_type": "markdown",
      "metadata": {
        "id": "view-in-github",
        "colab_type": "text"
      },
      "source": [
        "<a href=\"https://colab.research.google.com/github/chldPdnjs/pythonbasicclass/blob/main/Untitled0.ipynb\" target=\"_parent\"><img src=\"https://colab.research.google.com/assets/colab-badge.svg\" alt=\"Open In Colab\"/></a>"
      ]
    },
    {
      "cell_type": "code",
      "execution_count": 1,
      "metadata": {
        "id": "c96I-f7hSpaG"
      },
      "outputs": [],
      "source": [
        "# list tuple dict set\n",
        "\n",
        "# list [] indexing/slicing  mutable(del,ins)  [1]\n",
        "# tuple ()  indexing/slicing  imutable     (1,)\n",
        "# dict {}         X  (unordered)  mutable  {'key' : 'value'}\n",
        "# set {}          X  (unordered)  mutable  {1.2.3}\n",
        "\n"
      ]
    },
    {
      "cell_type": "code",
      "source": [
        "a = "
      ],
      "metadata": {
        "id": "VRsVjGubVlnK"
      },
      "execution_count": null,
      "outputs": []
    }
  ]
}